{
 "cells": [
  {
   "cell_type": "code",
   "execution_count": null,
   "metadata": {},
   "outputs": [],
   "source": [
    "from numpy.random import normal\n",
    "from numpy import mean\n",
    "from foodmachine import foodMachine"
   ]
  },
  {
   "cell_type": "code",
   "execution_count": null,
   "metadata": {},
   "outputs": [],
   "source": [
    "import csv \n",
    "data = []\n",
    "x = []\n",
    "y = []\n",
    "with open('data.txt', 'r') as datafile:\n",
    "    reader = csv.reader(datafile, delimiter=';')\n",
    "    for line in reader:\n",
    "        data.append((line[0], (float(line[1]), float(line[2]))))\n",
    "        x.append(float(line[1]))\n",
    "        y.append(float(line[2]))"
   ]
  },
  {
   "cell_type": "code",
   "execution_count": null,
   "metadata": {},
   "outputs": [],
   "source": [
    "fm = foodMachine()\n",
    "for shop in data:\n",
    "    fm.add_shop(shop)"
   ]
  },
  {
   "cell_type": "code",
   "execution_count": null,
   "metadata": {},
   "outputs": [],
   "source": [
    "examples = 100\n",
    "volunteers = 10"
   ]
  },
  {
   "cell_type": "code",
   "execution_count": 5,
   "metadata": {},
   "outputs": [],
   "source": [
    "pred_x = normal(mean(x), (max(x) - min(x))**2.5, examples)\n",
    "pred_y = normal(mean(y), (max(y) - min(y))**2.5, examples)\n",
    "\n",
    "coords = list(zip(pred_x, pred_y))"
   ]
  },
  {
   "cell_type": "code",
   "execution_count": 6,
   "metadata": {},
   "outputs": [],
   "source": [
    "pred_w = abs(normal(3, 1, examples))"
   ]
  },
  {
   "cell_type": "code",
   "execution_count": 7,
   "metadata": {},
   "outputs": [],
   "source": [
    "# fm.add_task('Алиса Антоновна', 'Ленина д 5, кв 92', (54.2, 37.66), 4, False, '+79851234567', \n",
    "#             [('Хлеб белый нарезной', 2), ('Гречка 1 кг', 1)])\n",
    "# 7 kg , 2.5 km\n",
    "\n",
    "for i in range(examples):\n",
    "    fm.add_w(str(i), pred_w[i])\n",
    "    fm.add_c(str(i), 100)\n",
    "    fm.add_task(str(i), str(i), coords[i], 100, True, '+79999999999', [(str(i), 1)])"
   ]
  },
  {
   "cell_type": "code",
   "execution_count": 8,
   "metadata": {},
   "outputs": [],
   "source": [
    "pred_x_v = normal(mean(x), (max(x) - min(x))**2.5, volunteers)\n",
    "pred_y_v = normal(mean(y), (max(y) - min(y))**2.5, volunteers)\n",
    "coords_v = list(zip(pred_x_v, pred_y_v))\n",
    "pred_w_v = abs(normal(7, 1, volunteers))\n",
    "pred_l_v = abs(normal(3.5, 1, volunteers))"
   ]
  },
  {
   "cell_type": "code",
   "execution_count": 9,
   "metadata": {},
   "outputs": [
    {
     "data": {
      "text/plain": [
       "100"
      ]
     },
     "execution_count": 9,
     "metadata": {},
     "output_type": "execute_result"
    }
   ],
   "source": [
    "len(fm.tasks)"
   ]
  },
  {
   "cell_type": "code",
   "execution_count": 10,
   "metadata": {},
   "outputs": [
    {
     "name": "stdout",
     "output_type": "stream",
     "text": [
      "4\n",
      "4\n",
      "3\n",
      "3\n",
      "3\n",
      "3\n",
      "3\n",
      "3\n",
      "3\n",
      "3\n",
      "[4, 4, 3, 3, 3, 3, 3, 3, 3, 3]\n"
     ]
    }
   ],
   "source": [
    "lens = []\n",
    "for i in range(volunteers):\n",
    "    a, uf = fm.volunteer_to_path(coords_v[i], pred_w_v[i], pred_l_v[i])\n",
    "#     print(uf)\n",
    "    if (len(uf) != 0):\n",
    "        lens.append(len(uf))\n",
    "        print(len(uf))\n",
    "    fm.confirm(uf)\n",
    "    \n",
    "print(lens)"
   ]
  },
  {
   "cell_type": "code",
   "execution_count": 11,
   "metadata": {},
   "outputs": [
    {
     "data": {
      "text/plain": [
       "3.2"
      ]
     },
     "execution_count": 11,
     "metadata": {},
     "output_type": "execute_result"
    }
   ],
   "source": [
    "mean(lens)"
   ]
  },
  {
   "cell_type": "code",
   "execution_count": 12,
   "metadata": {},
   "outputs": [
    {
     "data": {
      "text/plain": [
       "0"
      ]
     },
     "execution_count": 12,
     "metadata": {},
     "output_type": "execute_result"
    }
   ],
   "source": [
    "len(fm.tasks)"
   ]
  },
  {
   "cell_type": "code",
   "execution_count": 14,
   "metadata": {},
   "outputs": [
    {
     "name": "stdout",
     "output_type": "stream",
     "text": [
      "15\n"
     ]
    }
   ],
   "source": [
    "print(len(lens))"
   ]
  },
  {
   "cell_type": "code",
   "execution_count": null,
   "metadata": {},
   "outputs": [],
   "source": []
  }
 ],
 "metadata": {
  "kernelspec": {
   "display_name": "Python 3",
   "language": "python",
   "name": "python3"
  },
  "language_info": {
   "codemirror_mode": {
    "name": "ipython",
    "version": 3
   },
   "file_extension": ".py",
   "mimetype": "text/x-python",
   "name": "python",
   "nbconvert_exporter": "python",
   "pygments_lexer": "ipython3",
   "version": "3.7.7"
  }
 },
 "nbformat": 4,
 "nbformat_minor": 4
}
